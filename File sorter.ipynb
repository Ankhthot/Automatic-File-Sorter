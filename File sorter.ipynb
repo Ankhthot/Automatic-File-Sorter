{
 "cells": [
  {
   "cell_type": "code",
   "execution_count": null,
   "id": "fe788778-e0bd-4240-8674-1f6bee9507c6",
   "metadata": {},
   "outputs": [],
   "source": [
    "#File Sorter"
   ]
  },
  {
   "cell_type": "code",
   "execution_count": 25,
   "id": "2e215067-91b9-44a7-93b3-f77fe8c5787a",
   "metadata": {
    "tags": []
   },
   "outputs": [],
   "source": [
    "import os, shutil"
   ]
  },
  {
   "cell_type": "code",
   "execution_count": 26,
   "id": "d9d32cdb-7aa3-4ec6-8074-70a1efad1b6a",
   "metadata": {
    "tags": []
   },
   "outputs": [],
   "source": [
    "path =r\"D:/Mages/\""
   ]
  },
  {
   "cell_type": "code",
   "execution_count": 27,
   "id": "cee2e7e3-2758-4330-87fe-906fb99e8cb6",
   "metadata": {
    "tags": []
   },
   "outputs": [],
   "source": [
    "file_name = os.listdir(path)"
   ]
  },
  {
   "cell_type": "code",
   "execution_count": 28,
   "id": "382e4309-dd2f-479a-97db-8491947a5a9e",
   "metadata": {
    "tags": []
   },
   "outputs": [],
   "source": [
    "folder_names = ['csv files', 'image files', 'text files']\n",
    "\n",
    "for loop in range(0,3):\n",
    "    if not os.path.exists(path + folder_names[loop]):\n",
    "        print (path + folder_names[loop])\n",
    "        os.makedirs((path + folder_names[loop]))\n",
    "    \n"
   ]
  },
  {
   "cell_type": "code",
   "execution_count": 29,
   "id": "2796b249-e1c0-48e9-89f9-5019d20c2bf6",
   "metadata": {
    "tags": []
   },
   "outputs": [
    {
     "name": "stdout",
     "output_type": "stream",
     "text": [
      "This file type is not included\n",
      "This file type is not included\n",
      "This file type is not included\n",
      "This file type is not included\n",
      "This file type is not included\n",
      "This file type is not included\n",
      "This file type is not included\n",
      "This file type is not included\n",
      "This file type is not included\n"
     ]
    }
   ],
   "source": [
    "for file in file_name:\n",
    "    if \".csv\" in file and not os.path.exists(path + \"csv files/\" + file):\n",
    "        shutil.move(path + file, \"csv files/\" + file)\n",
    " \n",
    "    elif \".png\" in file and not os.path.exists(path + \"image files/\" + file):\n",
    "        shutil.move(path + file, \"image files/\" + file)\n",
    "    else:\n",
    "        print('This file type is not included')\n",
    "# this one is supposed to automatically sort files into different folders.   "
   ]
  },
  {
   "cell_type": "code",
   "execution_count": null,
   "id": "d591b1a0-caf9-427c-91a1-4541baed08c1",
   "metadata": {},
   "outputs": [],
   "source": []
  }
 ],
 "metadata": {
  "kernelspec": {
   "display_name": "Python 3 (ipykernel)",
   "language": "python",
   "name": "python3"
  },
  "language_info": {
   "codemirror_mode": {
    "name": "ipython",
    "version": 3
   },
   "file_extension": ".py",
   "mimetype": "text/x-python",
   "name": "python",
   "nbconvert_exporter": "python",
   "pygments_lexer": "ipython3",
   "version": "3.11.5"
  }
 },
 "nbformat": 4,
 "nbformat_minor": 5
}
